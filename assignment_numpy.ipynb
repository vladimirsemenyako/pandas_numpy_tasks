{
 "cells": [
  {
   "cell_type": "markdown",
   "id": "d3df79dd",
   "metadata": {},
   "source": [
    "## Упражнения по библиотеке Numpy"
   ]
  },
  {
   "cell_type": "code",
   "execution_count": 262,
   "id": "76b9c43b",
   "metadata": {},
   "outputs": [],
   "source": [
    "import numpy as np"
   ]
  },
  {
   "cell_type": "markdown",
   "id": "03727b7c",
   "metadata": {},
   "source": [
    "**1.** Дан случайный массив, поменять знак у элементов, значения которых между 3 и 8"
   ]
  },
  {
   "cell_type": "code",
   "execution_count": 263,
   "id": "b89a7523",
   "metadata": {},
   "outputs": [
    {
     "data": {
      "text/plain": [
       "[3, 2, -4, 1, 8, 8, -7, -6, 9, 10]"
      ]
     },
     "execution_count": 263,
     "metadata": {},
     "output_type": "execute_result"
    }
   ],
   "source": [
    "# python solution\n",
    "import random\n",
    "\n",
    "array_size = random.randint(1, 10)\n",
    "arr = [random.randint(0, 10) for _ in range(array_size)]\n",
    "for index, value in enumerate(arr):\n",
    "    if 3 < value < 8:\n",
    "        arr[index] = -value\n",
    "arr"
   ]
  },
  {
   "cell_type": "code",
   "execution_count": 264,
   "id": "3f728a14",
   "metadata": {},
   "outputs": [
    {
     "data": {
      "text/plain": [
       "array([-4,  8,  3])"
      ]
     },
     "execution_count": 264,
     "metadata": {},
     "output_type": "execute_result"
    }
   ],
   "source": [
    "# numpy solution\n",
    "arr = np.random.randint(0, 10, size=np.random.randint(1, 15)) # size and range are random\n",
    "mask = (arr > 3) & (arr < 8)\n",
    "arr[mask] = -arr[mask]\n",
    "arr"
   ]
  },
  {
   "cell_type": "markdown",
   "id": "5fa4abda",
   "metadata": {},
   "source": [
    "**2.** Заменить максимальный элемент случайного массива на 0"
   ]
  },
  {
   "cell_type": "code",
   "execution_count": 265,
   "id": "c401b269",
   "metadata": {},
   "outputs": [
    {
     "data": {
      "text/plain": [
       "[8, 7, 7, 0, 7, 6]"
      ]
     },
     "execution_count": 265,
     "metadata": {},
     "output_type": "execute_result"
    }
   ],
   "source": [
    "# python solution\n",
    "import random\n",
    "\n",
    "array_size = random.randint(1, 10)\n",
    "arr = [random.randint(0, 10) for _ in range(array_size)]\n",
    "max_value = max(arr)\n",
    "for index, value in enumerate(arr):\n",
    "    if value == max_value:\n",
    "        arr[index] = 0 \n",
    "arr"
   ]
  },
  {
   "cell_type": "code",
   "execution_count": 266,
   "id": "f2788a6e",
   "metadata": {},
   "outputs": [
    {
     "data": {
      "text/plain": [
       "array([0, 0])"
      ]
     },
     "execution_count": 266,
     "metadata": {},
     "output_type": "execute_result"
    }
   ],
   "source": [
    "# numpy solution\n",
    "arr = np.random.randint(0, 10, size=np.random.randint(1, 15)) # size and range are random\n",
    "max_value = arr.max()\n",
    "arr[arr == max_value] = 0\n",
    "arr"
   ]
  },
  {
   "cell_type": "markdown",
   "id": "3cac656b",
   "metadata": {},
   "source": [
    "**3.** Построить прямое произведение массивов (все комбинации с каждым элементом). На вход подается двумерный массив"
   ]
  },
  {
   "cell_type": "code",
   "execution_count": 267,
   "id": "227b44c3",
   "metadata": {},
   "outputs": [
    {
     "name": "stdout",
     "output_type": "stream",
     "text": [
      "[[10, 3, 3, 0, 0], [0, 2, 10]]\n",
      "[(10, 0), (10, 2), (10, 10), (3, 0), (3, 2), (3, 10), (3, 0), (3, 2), (3, 10), (0, 0), (0, 2), (0, 10), (0, 0), (0, 2), (0, 10)]\n"
     ]
    }
   ],
   "source": [
    "# python solution\n",
    "from itertools import product\n",
    "import random\n",
    "\n",
    "def straight_product_of_arrays(array):\n",
    "    return list(product(*array))\n",
    "\n",
    "# example\n",
    "lists = [[random.randint(0, 10) for _ in range(random.randint(2, 6))] \n",
    "         for _ in range(random.randint(2, 5))]\n",
    "input_array = lists \n",
    "\n",
    "result = straight_product_of_arrays(input_array)\n",
    "print(input_array)\n",
    "print(result)\n"
   ]
  },
  {
   "cell_type": "code",
   "execution_count": 268,
   "id": "3396b764",
   "metadata": {},
   "outputs": [
    {
     "name": "stdout",
     "output_type": "stream",
     "text": [
      "[array([5, 0, 1, 5]) array([4, 5, 0, 8, 8]) array([8, 8, 7]) array([6, 3])]\n",
      "[[5 4 8 6]\n",
      " [5 4 8 3]\n",
      " [5 4 8 6]\n",
      " [5 4 8 3]\n",
      " [5 4 7 6]\n",
      " [5 4 7 3]\n",
      " [5 5 8 6]\n",
      " [5 5 8 3]\n",
      " [5 5 8 6]\n",
      " [5 5 8 3]\n",
      " [5 5 7 6]\n",
      " [5 5 7 3]\n",
      " [5 0 8 6]\n",
      " [5 0 8 3]\n",
      " [5 0 8 6]\n",
      " [5 0 8 3]\n",
      " [5 0 7 6]\n",
      " [5 0 7 3]\n",
      " [5 8 8 6]\n",
      " [5 8 8 3]\n",
      " [5 8 8 6]\n",
      " [5 8 8 3]\n",
      " [5 8 7 6]\n",
      " [5 8 7 3]\n",
      " [5 8 8 6]\n",
      " [5 8 8 3]\n",
      " [5 8 8 6]\n",
      " [5 8 8 3]\n",
      " [5 8 7 6]\n",
      " [5 8 7 3]\n",
      " [0 4 8 6]\n",
      " [0 4 8 3]\n",
      " [0 4 8 6]\n",
      " [0 4 8 3]\n",
      " [0 4 7 6]\n",
      " [0 4 7 3]\n",
      " [0 5 8 6]\n",
      " [0 5 8 3]\n",
      " [0 5 8 6]\n",
      " [0 5 8 3]\n",
      " [0 5 7 6]\n",
      " [0 5 7 3]\n",
      " [0 0 8 6]\n",
      " [0 0 8 3]\n",
      " [0 0 8 6]\n",
      " [0 0 8 3]\n",
      " [0 0 7 6]\n",
      " [0 0 7 3]\n",
      " [0 8 8 6]\n",
      " [0 8 8 3]\n",
      " [0 8 8 6]\n",
      " [0 8 8 3]\n",
      " [0 8 7 6]\n",
      " [0 8 7 3]\n",
      " [0 8 8 6]\n",
      " [0 8 8 3]\n",
      " [0 8 8 6]\n",
      " [0 8 8 3]\n",
      " [0 8 7 6]\n",
      " [0 8 7 3]\n",
      " [1 4 8 6]\n",
      " [1 4 8 3]\n",
      " [1 4 8 6]\n",
      " [1 4 8 3]\n",
      " [1 4 7 6]\n",
      " [1 4 7 3]\n",
      " [1 5 8 6]\n",
      " [1 5 8 3]\n",
      " [1 5 8 6]\n",
      " [1 5 8 3]\n",
      " [1 5 7 6]\n",
      " [1 5 7 3]\n",
      " [1 0 8 6]\n",
      " [1 0 8 3]\n",
      " [1 0 8 6]\n",
      " [1 0 8 3]\n",
      " [1 0 7 6]\n",
      " [1 0 7 3]\n",
      " [1 8 8 6]\n",
      " [1 8 8 3]\n",
      " [1 8 8 6]\n",
      " [1 8 8 3]\n",
      " [1 8 7 6]\n",
      " [1 8 7 3]\n",
      " [1 8 8 6]\n",
      " [1 8 8 3]\n",
      " [1 8 8 6]\n",
      " [1 8 8 3]\n",
      " [1 8 7 6]\n",
      " [1 8 7 3]\n",
      " [5 4 8 6]\n",
      " [5 4 8 3]\n",
      " [5 4 8 6]\n",
      " [5 4 8 3]\n",
      " [5 4 7 6]\n",
      " [5 4 7 3]\n",
      " [5 5 8 6]\n",
      " [5 5 8 3]\n",
      " [5 5 8 6]\n",
      " [5 5 8 3]\n",
      " [5 5 7 6]\n",
      " [5 5 7 3]\n",
      " [5 0 8 6]\n",
      " [5 0 8 3]\n",
      " [5 0 8 6]\n",
      " [5 0 8 3]\n",
      " [5 0 7 6]\n",
      " [5 0 7 3]\n",
      " [5 8 8 6]\n",
      " [5 8 8 3]\n",
      " [5 8 8 6]\n",
      " [5 8 8 3]\n",
      " [5 8 7 6]\n",
      " [5 8 7 3]\n",
      " [5 8 8 6]\n",
      " [5 8 8 3]\n",
      " [5 8 8 6]\n",
      " [5 8 8 3]\n",
      " [5 8 7 6]\n",
      " [5 8 7 3]]\n"
     ]
    }
   ],
   "source": [
    "# numpy solution\n",
    "\n",
    "from itertools import product\n",
    "\n",
    "def straight_product_of_arrays(array: np.array) -> np.ndarray:\n",
    "    return np.array(list(product(*array)))\n",
    "\n",
    "# example\n",
    "lists = [np.random.randint(0, 10, size=np.random.randint(2, 6)) for _ in range(np.random.randint(2, 5))]\n",
    "input_array = np.array(lists, dtype=object)\n",
    "\n",
    "result = straight_product_of_arrays(input_array)\n",
    "print(input_array)\n",
    "print(result)"
   ]
  },
  {
   "cell_type": "markdown",
   "id": "674c9354",
   "metadata": {},
   "source": [
    "**4.** Даны 2 массива A (8x3) и B (2x2). Найти строки в A, которые содержат элементы из каждой строки в B, независимо от порядка элементов в B"
   ]
  },
  {
   "cell_type": "code",
   "execution_count": 269,
   "id": "cb664782",
   "metadata": {},
   "outputs": [
    {
     "data": {
      "text/plain": [
       "([[17, 6, 8],\n",
       "  [9, 16, 17],\n",
       "  [11, 9, 7],\n",
       "  [5, 9, 11],\n",
       "  [14, 18, 16],\n",
       "  [20, 18, 15],\n",
       "  [20, 13, 9],\n",
       "  [1, 11, 8]],\n",
       " [[20, 20], [15, 3]],\n",
       " [[20, 18, 15]])"
      ]
     },
     "execution_count": 269,
     "metadata": {},
     "output_type": "execute_result"
    }
   ],
   "source": [
    "# python solution\n",
    "\n",
    "import random\n",
    "\n",
    "array_a = [[random.randint(1, 20) for _ in range(3)] for _ in range(8)]\n",
    "array_b = [[random.randint(1, 20) for _ in range(2)] for _ in range(2)]\n",
    "\n",
    "result = []\n",
    "\n",
    "for i, row_a in enumerate(array_a):\n",
    "    first_b_row = False\n",
    "    second_b_row = False\n",
    "    for elem in row_a:\n",
    "        if elem in array_b[0]:\n",
    "            first_b_row = True\n",
    "            break\n",
    "    for elem in row_a:\n",
    "        if elem in array_b[1]:\n",
    "            second_b_row = True\n",
    "            break\n",
    "    if first_b_row and second_b_row:\n",
    "        result.append(row_a)\n",
    "    \n",
    "\n",
    "array_a, array_b, result"
   ]
  },
  {
   "cell_type": "code",
   "execution_count": 270,
   "id": "1d5304c3",
   "metadata": {},
   "outputs": [
    {
     "data": {
      "text/plain": [
       "(array([[ 3, 19, 11],\n",
       "        [ 7, 10,  8],\n",
       "        [16, 13,  9],\n",
       "        [19,  9,  6],\n",
       "        [13,  1,  7],\n",
       "        [10,  8,  4],\n",
       "        [11, 19, 17],\n",
       "        [17, 17, 18]]),\n",
       " array([[11, 18],\n",
       "        [ 3,  3]]),\n",
       " array([[ 3, 19, 11]]))"
      ]
     },
     "execution_count": 270,
     "metadata": {},
     "output_type": "execute_result"
    }
   ],
   "source": [
    "# numpy solution\n",
    "\n",
    "array_a = np.random.randint(1, 20, size=(8, 3))\n",
    "array_b = np.random.randint(1, 20, size=(2, 2))\n",
    "\n",
    "b0 = set(array_b[0])\n",
    "b1 = set(array_b[1])\n",
    "\n",
    "mask_b0 = np.isin(array_a, list(b0)).any(axis=1)\n",
    "mask_b1 = np.isin(array_a, list(b1)).any(axis=1)\n",
    "\n",
    "final_mask = mask_b0 & mask_b1\n",
    "\n",
    "result = array_a[final_mask]\n",
    "\n",
    "array_a, array_b, result"
   ]
  },
  {
   "cell_type": "markdown",
   "id": "fa46533b",
   "metadata": {},
   "source": [
    "**5.** Дана 10x3 матрица, найти строки из неравных значений (например строка [2,2,3] остается, строка [3,3,3] удаляется)"
   ]
  },
  {
   "cell_type": "code",
   "execution_count": 271,
   "id": "fa545b23",
   "metadata": {},
   "outputs": [
    {
     "data": {
      "text/plain": [
       "([[2, 4, 5],\n",
       "  [2, 2, 4],\n",
       "  [1, 3, 1],\n",
       "  [5, 2, 4],\n",
       "  [5, 3, 3],\n",
       "  [5, 4, 5],\n",
       "  [2, 2, 4],\n",
       "  [4, 3, 5],\n",
       "  [1, 1, 3],\n",
       "  [1, 5, 1]],\n",
       " [[2, 4, 5],\n",
       "  [2, 2, 4],\n",
       "  [1, 3, 1],\n",
       "  [5, 2, 4],\n",
       "  [5, 3, 3],\n",
       "  [5, 4, 5],\n",
       "  [2, 2, 4],\n",
       "  [4, 3, 5],\n",
       "  [1, 1, 3],\n",
       "  [1, 5, 1]])"
      ]
     },
     "execution_count": 271,
     "metadata": {},
     "output_type": "execute_result"
    }
   ],
   "source": [
    "# python solution\n",
    "\n",
    "import random\n",
    "\n",
    "array = [[random.randint(1, 5) for _ in range(3)] for _ in range(10)]\n",
    "filtered_array = []\n",
    "for row in array:\n",
    "    if len(set(row)) > 1:\n",
    "        filtered_array.append(row)\n",
    "\n",
    "array, filtered_array"
   ]
  },
  {
   "cell_type": "code",
   "execution_count": 272,
   "id": "585d3c9a",
   "metadata": {},
   "outputs": [
    {
     "data": {
      "text/plain": [
       "(array([[2, 3, 1],\n",
       "        [4, 3, 5],\n",
       "        [1, 2, 4],\n",
       "        [1, 1, 3],\n",
       "        [2, 1, 3],\n",
       "        [2, 1, 3],\n",
       "        [3, 5, 5],\n",
       "        [4, 1, 4],\n",
       "        [3, 1, 4],\n",
       "        [2, 1, 5]]),\n",
       " array([[2, 3, 1],\n",
       "        [4, 3, 5],\n",
       "        [1, 2, 4],\n",
       "        [1, 1, 3],\n",
       "        [2, 1, 3],\n",
       "        [2, 1, 3],\n",
       "        [3, 5, 5],\n",
       "        [4, 1, 4],\n",
       "        [3, 1, 4],\n",
       "        [2, 1, 5]]))"
      ]
     },
     "execution_count": 272,
     "metadata": {},
     "output_type": "execute_result"
    }
   ],
   "source": [
    "# numpy solution\n",
    "\n",
    "array = np.random.randint(1, 6, size=(10, 3))\n",
    "\n",
    "filtered_array = array[np.apply_along_axis(lambda row: len(np.unique(row)) > 1, axis=1, arr=array)]\n",
    "\n",
    "array, filtered_array"
   ]
  },
  {
   "cell_type": "markdown",
   "id": "28f0d116",
   "metadata": {},
   "source": [
    "**6.** Дан двумерный массив. Удалить те строки, которые повторяются"
   ]
  },
  {
   "cell_type": "code",
   "execution_count": 273,
   "id": "83d2c0b7",
   "metadata": {},
   "outputs": [
    {
     "data": {
      "text/plain": [
       "([[1, 3], [2, 1], [1, 1], [1, 1], [1, 1]], [[1, 3], [2, 1], [1, 1]])"
      ]
     },
     "execution_count": 273,
     "metadata": {},
     "output_type": "execute_result"
    }
   ],
   "source": [
    "# python solution\n",
    "\n",
    "array = [[random.randint(1, 3) for _ in range(2)] for _ in range(5)]\n",
    "\n",
    "unique_array = []\n",
    "\n",
    "for row in array:\n",
    "    if row not in unique_array:\n",
    "        unique_array.append(row)\n",
    "\n",
    "array, unique_array"
   ]
  },
  {
   "cell_type": "code",
   "execution_count": 274,
   "id": "b04104ee",
   "metadata": {},
   "outputs": [
    {
     "data": {
      "text/plain": [
       "(array([[3, 1],\n",
       "        [2, 3],\n",
       "        [3, 2],\n",
       "        [2, 1],\n",
       "        [2, 3]]),\n",
       " array([[2, 1],\n",
       "        [2, 3],\n",
       "        [3, 1],\n",
       "        [3, 2]]))"
      ]
     },
     "execution_count": 274,
     "metadata": {},
     "output_type": "execute_result"
    }
   ],
   "source": [
    "# numpy solution\n",
    "\n",
    "array = np.random.randint(1, 4, size=(5, 2))\n",
    "unique_array = np.unique(array, axis=0)\n",
    "\n",
    "array, unique_array"
   ]
  },
  {
   "cell_type": "markdown",
   "id": "6daa9e37",
   "metadata": {},
   "source": [
    "______\n",
    "______"
   ]
  },
  {
   "cell_type": "markdown",
   "id": "cfbfcaff",
   "metadata": {},
   "source": [
    "Для каждой из следующих задач (1-5) нужно привести 2 реализации – одна без использования numpy (cчитайте, что там, где на входе или выходе должны быть numpy array, будут просто списки), а вторая полностью векторизованная с использованием numpy (без использования питоновских циклов/map/list comprehension).\n",
    "\n",
    "\n",
    "__Замечание 1.__ Можно считать, что все указанные объекты непустые (к примеру, в __задаче 1__ на диагонали матрицы есть ненулевые элементы).\n",
    "\n",
    "__Замечание 2.__ Для большинства задач решение занимает не больше 1-2 строк."
   ]
  },
  {
   "cell_type": "markdown",
   "id": "673cac7f",
   "metadata": {},
   "source": [
    "___"
   ]
  },
  {
   "cell_type": "markdown",
   "id": "ca6f585e",
   "metadata": {},
   "source": [
    "* __Задача 1__: Подсчитать произведение ненулевых элементов на диагонали прямоугольной матрицы.  \n",
    " Например, для X = np.array([[1, 0, 1], [2, 0, 2], [3, 0, 3], [4, 4, 4]]) ответ 3."
   ]
  },
  {
   "cell_type": "code",
   "execution_count": null,
   "id": "065862fc",
   "metadata": {},
   "outputs": [],
   "source": [
    "def product_of_diagonal_elements(matrix):\n",
    "    diagonal_elements = np.diagonal(matrix)\n",
    "    nonzero_elements_mask = diagonal_elements[diagonal_elements != 0]\n",
    "    return np.prod(nonzero_elements_mask)\n",
    "\n",
    "X = np.array([[1, 0, 1], [2, 0, 2], [3, 0, 3], [4, 4, 4]])\n",
    "result = product_of_diagonal_elements(X)\n",
    "print(result)"
   ]
  },
  {
   "cell_type": "markdown",
   "id": "9fc51d41",
   "metadata": {},
   "source": [
    "* __Задача 2__: Даны два вектора x и y. Проверить, задают ли они одно и то же мультимножество.  \n",
    "  Например, для x = np.array([1, 2, 2, 4]), y = np.array([4, 2, 1, 2]) ответ True."
   ]
  },
  {
   "cell_type": "code",
   "execution_count": null,
   "id": "a809e02f",
   "metadata": {},
   "outputs": [],
   "source": [
    "# multiset is a set that contains similar elems and every elem is found the same amount\n",
    "def multiset_check(x, y):\n",
    "    x_vals, x_counts = np.unique(x, return_counts=True)\n",
    "    y_vals, y_counts = np.unique(y, return_counts=True)\n",
    "    return np.array_equal(x_vals, y_vals) and np.array_equal(x_counts, y_counts)\n",
    "\n",
    "x = np.array([1, 2, 2, 4])\n",
    "y = np.array([4, 2, 1, 2])\n",
    "multiset_check(x, y)"
   ]
  },
  {
   "cell_type": "markdown",
   "id": "b9c185c7",
   "metadata": {},
   "source": [
    "* __Задача 3__: Найти максимальный элемент в векторе x среди элементов, перед которыми стоит ноль. \n",
    " Например, для x = np.array([6, 2, 0, 3, 0, 0, 5, 7, 0]) ответ 5."
   ]
  },
  {
   "cell_type": "code",
   "execution_count": null,
   "id": "b57df008",
   "metadata": {},
   "outputs": [],
   "source": [
    "x = np.array([10, 2, 0, 8, 0, 0, 5, 7, 0])\n",
    "\n",
    "mask = np.zeros_like(x, dtype=bool)\n",
    "mask[1:] = (x[:-1] == 0)  \n",
    "elements_after_zero = x[mask]\n",
    "\n",
    "max_after_zero = np.max(elements_after_zero) if len(elements_after_zero) > 0 else None\n",
    "\n",
    "print(max_after_zero)"
   ]
  },
  {
   "cell_type": "markdown",
   "id": "480be4ce",
   "metadata": {},
   "source": [
    "* __Задача 4__: Реализовать кодирование длин серий (Run-length encoding). Для некоторого вектора x необходимо вернуть кортеж из двух векторов одинаковой длины. Первый содержит числа, а второй - сколько раз их нужно повторить.  \n",
    " Например, для x = np.array([2, 2, 2, 3, 3, 3, 5]) ответ (np.array([2, 3, 5]), np.array([3, 3, 1]))."
   ]
  },
  {
   "cell_type": "code",
   "execution_count": null,
   "id": "3c592124",
   "metadata": {},
   "outputs": [],
   "source": [
    "def run_length_encoding(x):\n",
    "    if len(x) == 0:\n",
    "        return np.array([]), np.array([])\n",
    "    \n",
    "    change_indices = np.where(np.diff(x) != 0)[0] + 1\n",
    "    indices = np.concatenate(([0], change_indices, [len(x)]))\n",
    "    values = x[indices[:-1]]\n",
    "    counts = np.diff(indices)\n",
    "    return values, counts\n",
    "\n",
    "x = np.array([2, 2, 2, 3, 3, 3, 5])\n",
    "values, counts = run_length_encoding(x)\n",
    "values, counts"
   ]
  },
  {
   "cell_type": "markdown",
   "id": "077532ec",
   "metadata": {},
   "source": [
    "* __Задача 5__: Даны две выборки объектов - X и Y. Вычислить матрицу евклидовых расстояний между объектами. Сравните с функцией scipy.spatial.distance.cdist по скорости работы."
   ]
  },
  {
   "cell_type": "code",
   "execution_count": null,
   "id": "1e807797",
   "metadata": {},
   "outputs": [],
   "source": [
    "import time\n",
    "from scipy.spatial.distance import cdist\n",
    "\n",
    "np.random.seed(0) # for fixing results\n",
    "X = np.random.rand(1000, 50)\n",
    "Y = np.random.rand(1000, 50)\n",
    "\n",
    "def euclidean_distance_matrix_manual(X, Y):\n",
    "    X_sq = np.sum(X**2, axis=1).reshape(-1, 1)  \n",
    "    Y_sq = np.sum(Y**2, axis=1).reshape(1, -1)  \n",
    "    XY = X @ Y.T                                \n",
    "    dists = np.sqrt(X_sq - 2 * XY + Y_sq)\n",
    "    return dists\n",
    "\n",
    "start_manual = time.time()\n",
    "D_manual = euclidean_distance_matrix_manual(X, Y)\n",
    "end_manual = time.time()\n",
    "\n",
    "start_scipy = time.time()\n",
    "D_scipy = cdist(X, Y, metric='euclidean')\n",
    "end_scipy = time.time()\n",
    "\n",
    "np.abs(D_manual - D_scipy).max()"
   ]
  },
  {
   "cell_type": "markdown",
   "id": "973e8064",
   "metadata": {},
   "source": [
    "_______\n",
    "________"
   ]
  },
  {
   "cell_type": "markdown",
   "id": "1104acb7",
   "metadata": {},
   "source": [
    "* #### __Задача 6__: CrunchieMunchies __*__\n",
    "\n",
    "Вы работаете в отделе маркетинга пищевой компании MyCrunch, которая разрабатывает новый вид вкусных, полезных злаков под названием **CrunchieMunchies**.\n",
    "\n",
    "Вы хотите продемонстрировать потребителям, насколько полезны ваши хлопья по сравнению с другими ведущими брендами, поэтому вы собрали данные о питании нескольких разных конкурентов.\n",
    "\n",
    "Ваша задача - использовать вычисления Numpy для анализа этих данных и доказать, что ваши **СrunchieMunchies** - самый здоровый выбор для потребителей.\n"
   ]
  },
  {
   "cell_type": "code",
   "execution_count": 280,
   "id": "10a77f8d",
   "metadata": {},
   "outputs": [],
   "source": [
    "import numpy as np"
   ]
  },
  {
   "cell_type": "markdown",
   "id": "ab87cb03",
   "metadata": {},
   "source": [
    "1. Просмотрите файл cereal.csv. Этот файл содержит количества калорий для различных марок хлопьев. Загрузите данные из файла и сохраните их как calorie_stats."
   ]
  },
  {
   "cell_type": "code",
   "execution_count": 281,
   "id": "9681ebf2",
   "metadata": {},
   "outputs": [
    {
     "data": {
      "text/plain": [
       "array([ 70., 120.,  70.,  50., 110., 110., 110., 130.,  90.,  90., 120.,\n",
       "       110., 120., 110., 110., 110., 100., 110., 110., 110., 100., 110.,\n",
       "       100., 100., 110., 110., 100., 120., 120., 110., 100., 110., 100.,\n",
       "       110., 120., 120., 110., 110., 110., 140., 110., 100., 110., 100.,\n",
       "       150., 150., 160., 100., 120., 140.,  90., 130., 120., 100.,  50.,\n",
       "        50., 100., 100., 120., 100.,  90., 110., 110.,  80.,  90.,  90.,\n",
       "       110., 110.,  90., 110., 140., 100., 110., 110., 100., 100., 110.])"
      ]
     },
     "execution_count": 281,
     "metadata": {},
     "output_type": "execute_result"
    }
   ],
   "source": [
    "calorie_stats = np.loadtxt(\"./data/cereal.csv\", delimiter=\",\")\n",
    "calorie_stats"
   ]
  },
  {
   "cell_type": "markdown",
   "id": "139cfbd8",
   "metadata": {},
   "source": [
    "2. В одной порции CrunchieMunchies содержится 60 калорий. Насколько выше среднее количество калорий у ваших конкурентов?\n",
    "\n",
    "Сохраните ответ в переменной average_calories и распечатайте переменную в терминале"
   ]
  },
  {
   "cell_type": "code",
   "execution_count": 305,
   "id": "7036d240",
   "metadata": {},
   "outputs": [
    {
     "data": {
      "text/plain": [
       "(np.float64(106.88311688311688), np.float64(46.883116883116884))"
      ]
     },
     "execution_count": 305,
     "metadata": {},
     "output_type": "execute_result"
    }
   ],
   "source": [
    "crunchie_munchies_calories = 60\n",
    "average_calories = calorie_stats.mean()\n",
    "diff = average_calories - crunchie_munchies_calories\n",
    "average_calories, diff\n"
   ]
  },
  {
   "cell_type": "markdown",
   "id": "b2ddb4cd",
   "metadata": {},
   "source": [
    "3. Корректно ли среднее количество калорий отражает распределение набора данных? Давайте отсортируем данные и посмотрим.\n",
    "\n",
    "Отсортируйте данные и сохраните результат в переменной calorie_stats_sorted. Распечатайте отсортированную информацию"
   ]
  },
  {
   "cell_type": "code",
   "execution_count": 312,
   "id": "46eeb4ed",
   "metadata": {},
   "outputs": [
    {
     "data": {
      "text/plain": [
       "array([ 50.,  50.,  50.,  70.,  70.,  80.,  90.,  90.,  90.,  90.,  90.,\n",
       "        90.,  90., 100., 100., 100., 100., 100., 100., 100., 100., 100.,\n",
       "       100., 100., 100., 100., 100., 100., 100., 100., 110., 110., 110.,\n",
       "       110., 110., 110., 110., 110., 110., 110., 110., 110., 110., 110.,\n",
       "       110., 110., 110., 110., 110., 110., 110., 110., 110., 110., 110.,\n",
       "       110., 110., 110., 110., 120., 120., 120., 120., 120., 120., 120.,\n",
       "       120., 120., 120., 130., 130., 140., 140., 140., 150., 150., 160.])"
      ]
     },
     "execution_count": 312,
     "metadata": {},
     "output_type": "execute_result"
    }
   ],
   "source": [
    "calorie_stats_sorted = np.sort(calorie_stats)\n",
    "\n",
    "calorie_stats_sorted"
   ]
  },
  {
   "cell_type": "markdown",
   "id": "4dc74116",
   "metadata": {},
   "source": [
    "4. Похоже, что большинство значений выше среднего. Давайте посмотрим, является ли медиана наиболее корректным показателем набора данных.\n",
    "\n",
    "Вычислите медиану набора данных и сохраните свой ответ в median_calories. Выведите медиану, чтобы вы могли видеть, как она сравнивается со средним значением."
   ]
  },
  {
   "cell_type": "code",
   "execution_count": 314,
   "id": "b56627c3",
   "metadata": {},
   "outputs": [
    {
     "data": {
      "text/plain": [
       "(np.float64(110.0), np.float64(106.88311688311688))"
      ]
     },
     "execution_count": 314,
     "metadata": {},
     "output_type": "execute_result"
    }
   ],
   "source": [
    "median_calories = np.median(calorie_stats_sorted)\n",
    "median_calories, average_calories"
   ]
  },
  {
   "cell_type": "markdown",
   "id": "a63ab72f",
   "metadata": {},
   "source": [
    "5. В то время как медиана показывает, что по крайней мере половина наших значений составляет более 100 калорий, было бы более впечатляюще показать, что значительная часть конкурентов имеет более высокое количество калорий, чем CrunchieMunchies.\n",
    "\n",
    "Рассчитайте различные процентили и распечатайте их, пока не найдете наименьший процентиль, превышающий 60 калорий. Сохраните это значение в переменной nth_percentile."
   ]
  },
  {
   "cell_type": "code",
   "execution_count": 317,
   "id": "fe80ce03",
   "metadata": {},
   "outputs": [
    {
     "name": "stdout",
     "output_type": "stream",
     "text": [
      "50.0\n",
      "50.0\n",
      "50.0\n",
      "55.599999999999994\n",
      "70.0\n"
     ]
    },
    {
     "data": {
      "text/plain": [
       "np.float64(70.0)"
      ]
     },
     "execution_count": 317,
     "metadata": {},
     "output_type": "execute_result"
    }
   ],
   "source": [
    "nth_percintile = None\n",
    "for percintile in range(0, 101):\n",
    "    current = np.percentile(calorie_stats_sorted, percintile)\n",
    "    print(current)\n",
    "    if current > 60:\n",
    "        nth_percintile = current\n",
    "        break\n",
    "\n",
    "nth_percintile"
   ]
  },
  {
   "cell_type": "markdown",
   "id": "a2a3c5aa",
   "metadata": {},
   "source": [
    "6. Хотя процентиль показывает нам, что у большинства конкурентов количество калорий намного выше, это неудобная концепция для использования в маркетинговых материалах.\n",
    "\n",
    "Вместо этого давайте подсчитаем процент хлопьев, в которых содержится более 60 калорий на порцию. Сохраните свой ответ в переменной more_calories и распечатайте его"
   ]
  },
  {
   "cell_type": "code",
   "execution_count": 318,
   "id": "ade0f6ea",
   "metadata": {},
   "outputs": [
    {
     "data": {
      "text/plain": [
       "np.float64(0.961038961038961)"
      ]
     },
     "execution_count": 318,
     "metadata": {},
     "output_type": "execute_result"
    }
   ],
   "source": [
    "more_calories = np.sum(calorie_stats > 60) / len(calorie_stats)\n",
    "more_calories"
   ]
  },
  {
   "cell_type": "markdown",
   "id": "1735d65b",
   "metadata": {},
   "source": [
    "7. Это действительно высокий процент. Это будет очень полезно, когда мы будем продвигать CrunchieMunchies. Но один вопрос заключается в том, насколько велики различия в наборе данных? Можем ли мы сделать обобщение, что в большинстве злаков содержится около 100 калорий или разброс еще больше?\n",
    "\n",
    "Рассчитайте величину отклонения, найдя стандартное отклонение, Сохраните свой ответ в calorie_std и распечатайте на терминале. Как мы можем включить эту ценность в наш анализ?"
   ]
  },
  {
   "cell_type": "code",
   "execution_count": 319,
   "id": "85c8df1f",
   "metadata": {},
   "outputs": [
    {
     "data": {
      "text/plain": [
       "np.float64(19.35718533390827)"
      ]
     },
     "execution_count": 319,
     "metadata": {},
     "output_type": "execute_result"
    }
   ],
   "source": [
    "calorie_std = np.std(calorie_stats_sorted)\n",
    "calorie_std"
   ]
  },
  {
   "cell_type": "markdown",
   "id": "037455c5",
   "metadata": {},
   "source": [
    "8. Напишите короткий абзац, в котором кратко изложите свои выводы и то, как, по вашему мнению, эти данные могут быть использованы в интересах Mycrunch при маркетинге CrunchieMunchies."
   ]
  },
  {
   "cell_type": "markdown",
   "id": "a937db5a",
   "metadata": {},
   "source": [
    "В интересах компании Mycrunch можно эффективно использовать значение more_calories, предоставляя продукт как из раздела для здорового питания, показывая, что его энергетическая ценность лучше для этой категории, чем у 96% хлопьев на рынке. Также можно удачно использовать значение медианы, потому что для продвижения товара хорошо показывать, какия медианные значения по рынку данного товара."
   ]
  }
 ],
 "metadata": {
  "kernelspec": {
   "display_name": "Python 3",
   "language": "python",
   "name": "python3"
  },
  "language_info": {
   "codemirror_mode": {
    "name": "ipython",
    "version": 3
   },
   "file_extension": ".py",
   "mimetype": "text/x-python",
   "name": "python",
   "nbconvert_exporter": "python",
   "pygments_lexer": "ipython3",
   "version": "3.12.1"
  }
 },
 "nbformat": 4,
 "nbformat_minor": 5
}
